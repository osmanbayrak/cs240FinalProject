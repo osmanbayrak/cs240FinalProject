{
 "cells": [
  {
   "cell_type": "code",
   "execution_count": 2,
   "metadata": {},
   "outputs": [],
   "source": [
    "#Question\n",
    "\n",
    "import pandas as pd\n",
    "import math\n",
    "import numpy as np\n",
    "import matplotlib\n",
    "import thinkstats2\n",
    "import thinkplot"
   ]
  },
  {
   "cell_type": "code",
   "execution_count": 4,
   "metadata": {},
   "outputs": [],
   "source": [
    "df = pd.read_csv(\"basketball_players.csv\")"
   ]
  },
  {
   "cell_type": "code",
   "execution_count": 5,
   "metadata": {},
   "outputs": [
    {
     "data": {
      "text/html": [
       "<div>\n",
       "<table border=\"1\" class=\"dataframe\">\n",
       "  <thead>\n",
       "    <tr style=\"text-align: right;\">\n",
       "      <th></th>\n",
       "      <th>playerID</th>\n",
       "      <th>year</th>\n",
       "      <th>stint</th>\n",
       "      <th>tmID</th>\n",
       "      <th>lgID</th>\n",
       "      <th>GP</th>\n",
       "      <th>GS</th>\n",
       "      <th>minutes</th>\n",
       "      <th>points</th>\n",
       "      <th>oRebounds</th>\n",
       "      <th>...</th>\n",
       "      <th>PostBlocks</th>\n",
       "      <th>PostTurnovers</th>\n",
       "      <th>PostPF</th>\n",
       "      <th>PostfgAttempted</th>\n",
       "      <th>PostfgMade</th>\n",
       "      <th>PostftAttempted</th>\n",
       "      <th>PostftMade</th>\n",
       "      <th>PostthreeAttempted</th>\n",
       "      <th>PostthreeMade</th>\n",
       "      <th>note</th>\n",
       "    </tr>\n",
       "  </thead>\n",
       "  <tbody>\n",
       "    <tr>\n",
       "      <th>0</th>\n",
       "      <td>abramjo01</td>\n",
       "      <td>1946</td>\n",
       "      <td>1</td>\n",
       "      <td>PIT</td>\n",
       "      <td>NBA</td>\n",
       "      <td>47</td>\n",
       "      <td>0</td>\n",
       "      <td>0</td>\n",
       "      <td>527</td>\n",
       "      <td>0</td>\n",
       "      <td>...</td>\n",
       "      <td>0</td>\n",
       "      <td>0</td>\n",
       "      <td>0</td>\n",
       "      <td>0</td>\n",
       "      <td>0</td>\n",
       "      <td>0</td>\n",
       "      <td>0</td>\n",
       "      <td>0</td>\n",
       "      <td>0</td>\n",
       "      <td>NaN</td>\n",
       "    </tr>\n",
       "    <tr>\n",
       "      <th>1</th>\n",
       "      <td>aubucch01</td>\n",
       "      <td>1946</td>\n",
       "      <td>1</td>\n",
       "      <td>DTF</td>\n",
       "      <td>NBA</td>\n",
       "      <td>30</td>\n",
       "      <td>0</td>\n",
       "      <td>0</td>\n",
       "      <td>65</td>\n",
       "      <td>0</td>\n",
       "      <td>...</td>\n",
       "      <td>0</td>\n",
       "      <td>0</td>\n",
       "      <td>0</td>\n",
       "      <td>0</td>\n",
       "      <td>0</td>\n",
       "      <td>0</td>\n",
       "      <td>0</td>\n",
       "      <td>0</td>\n",
       "      <td>0</td>\n",
       "      <td>NaN</td>\n",
       "    </tr>\n",
       "    <tr>\n",
       "      <th>2</th>\n",
       "      <td>bakerno01</td>\n",
       "      <td>1946</td>\n",
       "      <td>1</td>\n",
       "      <td>CHS</td>\n",
       "      <td>NBA</td>\n",
       "      <td>4</td>\n",
       "      <td>0</td>\n",
       "      <td>0</td>\n",
       "      <td>0</td>\n",
       "      <td>0</td>\n",
       "      <td>...</td>\n",
       "      <td>0</td>\n",
       "      <td>0</td>\n",
       "      <td>0</td>\n",
       "      <td>0</td>\n",
       "      <td>0</td>\n",
       "      <td>0</td>\n",
       "      <td>0</td>\n",
       "      <td>0</td>\n",
       "      <td>0</td>\n",
       "      <td>NaN</td>\n",
       "    </tr>\n",
       "    <tr>\n",
       "      <th>3</th>\n",
       "      <td>baltihe01</td>\n",
       "      <td>1946</td>\n",
       "      <td>1</td>\n",
       "      <td>STB</td>\n",
       "      <td>NBA</td>\n",
       "      <td>58</td>\n",
       "      <td>0</td>\n",
       "      <td>0</td>\n",
       "      <td>138</td>\n",
       "      <td>0</td>\n",
       "      <td>...</td>\n",
       "      <td>0</td>\n",
       "      <td>0</td>\n",
       "      <td>3</td>\n",
       "      <td>10</td>\n",
       "      <td>2</td>\n",
       "      <td>1</td>\n",
       "      <td>0</td>\n",
       "      <td>0</td>\n",
       "      <td>0</td>\n",
       "      <td>NaN</td>\n",
       "    </tr>\n",
       "    <tr>\n",
       "      <th>4</th>\n",
       "      <td>barrjo01</td>\n",
       "      <td>1946</td>\n",
       "      <td>1</td>\n",
       "      <td>STB</td>\n",
       "      <td>NBA</td>\n",
       "      <td>58</td>\n",
       "      <td>0</td>\n",
       "      <td>0</td>\n",
       "      <td>295</td>\n",
       "      <td>0</td>\n",
       "      <td>...</td>\n",
       "      <td>0</td>\n",
       "      <td>0</td>\n",
       "      <td>0</td>\n",
       "      <td>0</td>\n",
       "      <td>0</td>\n",
       "      <td>0</td>\n",
       "      <td>0</td>\n",
       "      <td>0</td>\n",
       "      <td>0</td>\n",
       "      <td>NaN</td>\n",
       "    </tr>\n",
       "  </tbody>\n",
       "</table>\n",
       "<p>5 rows × 42 columns</p>\n",
       "</div>"
      ],
      "text/plain": [
       "    playerID  year  stint tmID lgID  GP  GS  minutes  points  oRebounds  ...   \\\n",
       "0  abramjo01  1946      1  PIT  NBA  47   0        0     527          0  ...    \n",
       "1  aubucch01  1946      1  DTF  NBA  30   0        0      65          0  ...    \n",
       "2  bakerno01  1946      1  CHS  NBA   4   0        0       0          0  ...    \n",
       "3  baltihe01  1946      1  STB  NBA  58   0        0     138          0  ...    \n",
       "4   barrjo01  1946      1  STB  NBA  58   0        0     295          0  ...    \n",
       "\n",
       "   PostBlocks  PostTurnovers  PostPF  PostfgAttempted  PostfgMade  \\\n",
       "0           0              0       0                0           0   \n",
       "1           0              0       0                0           0   \n",
       "2           0              0       0                0           0   \n",
       "3           0              0       3               10           2   \n",
       "4           0              0       0                0           0   \n",
       "\n",
       "   PostftAttempted  PostftMade  PostthreeAttempted  PostthreeMade  note  \n",
       "0                0           0                   0              0   NaN  \n",
       "1                0           0                   0              0   NaN  \n",
       "2                0           0                   0              0   NaN  \n",
       "3                1           0                   0              0   NaN  \n",
       "4                0           0                   0              0   NaN  \n",
       "\n",
       "[5 rows x 42 columns]"
      ]
     },
     "execution_count": 5,
     "metadata": {},
     "output_type": "execute_result"
    }
   ],
   "source": [
    "df.head()"
   ]
  },
  {
   "cell_type": "code",
   "execution_count": 168,
   "metadata": {},
   "outputs": [
    {
     "name": "stdout",
     "output_type": "stream",
     "text": [
      "415\n",
      "415\n",
      "415\n"
     ]
    }
   ],
   "source": [
    "#Question 2\n",
    "myDF = df.loc[df['lgID'] == 'NBA']\n",
    "myDF =myDF.loc[myDF['year'] == 1990]\n",
    "\n",
    "turnOvers = myDF['turnovers']\n",
    "points = myDF['points']\n",
    "ftMade = myDF['ftMade']\n",
    "turnOvers.dropna(inplace=True)\n",
    "ftMade.dropna(inplace=True)\n",
    "points.dropna(inplace=True)\n",
    "\n",
    "print points.size\n",
    "print ftMade.size\n",
    "print turnOvers.size\n",
    "def Cov(xs, ys, meanx=None, meany=None):\n",
    "    xs = np.asarray(xs)\n",
    "    ys = np.asarray(ys)\n",
    "\n",
    "    if meanx is None:\n",
    "        meanx = np.mean(xs)\n",
    "    if meany is None:\n",
    "        meany = np.mean(ys)\n",
    "\n",
    "    cov = np.dot(xs-meanx, ys-meany) / len(xs)\n",
    "    return cov\n",
    "def Corr(xs, ys):\n",
    "    xs = np.asarray(xs)\n",
    "    ys = np.asarray(ys)\n",
    "\n",
    "    meanx, varx = thinkstats2.MeanVar(xs)\n",
    "    meany, vary = thinkstats2.MeanVar(ys)\n",
    "\n",
    "    corr = Cov(xs, ys, meanx, meany) / np.sqrt(varx * vary)\n",
    "    return corr\n",
    "\n",
    "def SpearmanCorr(xs, ys):\n",
    "    xranks = pd.Series(xs).rank()\n",
    "    yranks = pd.Series(ys).rank()\n",
    "    return Corr(xranks, yranks)"
   ]
  },
  {
   "cell_type": "code",
   "execution_count": 169,
   "metadata": {},
   "outputs": [
    {
     "data": {
      "image/png": "[encoded data removed]",
      "text/plain": [
       "<matplotlib.figure.Figure at 0x7fe94fdd1510>"
      ]
     },
     "metadata": {},
     "output_type": "display_data"
    }
   ],
   "source": [
    "#Question3\n",
    "hist = thinkstats2.Hist(turnOvers, label='Total Turnovers')\n",
    "axis = [0, 400, 0, 15]\n",
    "thinkplot.Hist(hist)\n",
    "thinkplot.Show(xlabel='Total Turnovers', ylabel='Number of Players', axis= axis)"
   ]
  },
  {
   "cell_type": "code",
   "execution_count": 170,
   "metadata": {},
   "outputs": [
    {
     "name": "stdout",
     "output_type": "stream",
     "text": [
      "69.85582006864077\n",
      "121.22415385376968\n",
      "83.25060240963856\n",
      "113.76626506024097\n",
      "0.9291008082359609\n"
     ]
    }
   ],
   "source": [
    "print turnOvers.std()\n",
    "print ftMade.std()\n",
    "print turnOvers.mean()\n",
    "print ftMade.mean()\n",
    "print SpearmanCorr(turnOvers, ftMade)"
   ]
  },
  {
   "cell_type": "code",
   "execution_count": 171,
   "metadata": {},
   "outputs": [
    {
     "data": {
      "image/png": "[encoded data removed]",
      "text/plain": [
       "<matplotlib.figure.Figure at 0x7fe93db28790>"
      ]
     },
     "metadata": {},
     "output_type": "display_data"
    }
   ],
   "source": [
    "hist = thinkstats2.Hist(ftMade, label='Total Free Throw Mades')\n",
    "axis = [0, 400, 0, 10]\n",
    "thinkplot.Hist(hist)\n",
    "thinkplot.Show(xlabel='Total Free Throws Made', ylabel='Number of Players', axis= axis)"
   ]
  },
  {
   "cell_type": "code",
   "execution_count": 172,
   "metadata": {},
   "outputs": [
    {
     "data": {
      "image/png": "[encoded data removed]",
      "text/plain": [
       "<matplotlib.figure.Figure at 0x7fe9428e7e90>"
      ]
     },
     "metadata": {},
     "output_type": "display_data"
    }
   ],
   "source": [
    "turnOvers_PMF = thinkstats2.Pmf(turnOvers, label='tunrOvers')\n",
    "ft_PMF = thinkstats2.Pmf(ftMade, label='Free Throws')\n",
    "points_PMF = thinkstats2.Pmf(points, label='Points')\n",
    "\n",
    "thinkplot.PrePlot(3)\n",
    "thinkplot.Hist(turnOvers_PMF, align='left', color='red')\n",
    "thinkplot.Hist(ft_PMF, align='left', color='blue')\n",
    "thinkplot.Hist(points_PMF, align='left', color='green')\n",
    "thinkplot.Show(xlabel='Number of Players', ylabel='PMF',axis=[0,200,0,0.02])"
   ]
  },
  {
   "cell_type": "code",
   "execution_count": 173,
   "metadata": {},
   "outputs": [
    {
     "data": {
      "image/png": "[encoded data removed]",
      "text/plain": [
       "<matplotlib.figure.Figure at 0x7fe942552250>"
      ]
     },
     "metadata": {},
     "output_type": "display_data"
    }
   ],
   "source": [
    "turnOvers_CDF = thinkstats2.Cdf(turnOvers, label='Turn Overs')\n",
    "ft_CDF = thinkstats2.Cdf(ftMade, label='Free Throws')\n",
    "points_CDF = thinkstats2.Cdf(points, label='Points')\n",
    "\n",
    "thinkplot.PrePlot(3)\n",
    "thinkplot.Cdfs([turnOvers_CDF, ft_CDF, points_CDF])\n",
    "thinkplot.Show(xlabel='Number of Players', ylabel='CDF')"
   ]
  },
  {
   "cell_type": "code",
   "execution_count": 174,
   "metadata": {},
   "outputs": [
    {
     "data": {
      "image/png": "[encoded data removed]",
      "text/plain": [
       "<matplotlib.figure.Figure at 0x7fe93deddf50>"
      ]
     },
     "metadata": {},
     "output_type": "display_data"
    }
   ],
   "source": [
    "def ScatterPlot(turnOvers, ftMade, alpha=1.0, s=20):\n",
    "\n",
    "    thinkplot.Scatter(turnOvers, ftMade, alpha=alpha)\n",
    "    thinkplot.Show(xlabel='Turn Overs',\n",
    "                     ylabel='Ft Mades',\n",
    "                     xlim=[0, 200],\n",
    "                     ylim=[0, 200],\n",
    "                     legend=False)\n",
    "\n",
    "ScatterPlot(turnOvers.head(400), ftMade.head(400), alpha=1.0, s=10)\n"
   ]
  },
  {
   "cell_type": "code",
   "execution_count": 175,
   "metadata": {},
   "outputs": [],
   "source": [
    "#Question4\n",
    "def PercentileRank(total, individual):\n",
    "    count = 0\n",
    "    for item in total:\n",
    "        if item <= individual:\n",
    "            count += 1\n",
    "\n",
    "    percentile_rank = 100.0 * count / len(total)\n",
    "    return percentile_rank"
   ]
  },
  {
   "cell_type": "code",
   "execution_count": 176,
   "metadata": {},
   "outputs": [],
   "source": [
    "def Percentile(total, percentile_rank):\n",
    "    total.sort()\n",
    "    for item in total:\n",
    "        if PercentileRank(total, item) >= percentile_rank:\n",
    "            return item"
   ]
  },
  {
   "cell_type": "code",
   "execution_count": 177,
   "metadata": {},
   "outputs": [
    {
     "data": {
      "text/plain": [
       "69"
      ]
     },
     "execution_count": 177,
     "metadata": {},
     "output_type": "execute_result"
    }
   ],
   "source": [
    "mediana = turnOvers_CDF.Percentile(50)\n",
    "mediana\n"
   ]
  },
  {
   "cell_type": "code",
   "execution_count": 178,
   "metadata": {},
   "outputs": [
    {
     "data": {
      "text/plain": [
       "71"
      ]
     },
     "execution_count": 178,
     "metadata": {},
     "output_type": "execute_result"
    }
   ],
   "source": [
    "medians = ft_CDF.Percentile(50)\n",
    "medians"
   ]
  },
  {
   "cell_type": "code",
   "execution_count": 179,
   "metadata": {},
   "outputs": [
    {
     "data": {
      "text/plain": [
       "(22, 71, 169)"
      ]
     },
     "execution_count": 179,
     "metadata": {},
     "output_type": "execute_result"
    }
   ],
   "source": [
    "ftPercentiles = (ft_CDF.Percentile(25),ft_CDF.Percentile(50),ft_CDF.Percentile(75))\n",
    "ftPercentiles\n"
   ]
  },
  {
   "cell_type": "code",
   "execution_count": 180,
   "metadata": {},
   "outputs": [
    {
     "data": {
      "text/plain": [
       "(24, 69, 130)"
      ]
     },
     "execution_count": 180,
     "metadata": {},
     "output_type": "execute_result"
    }
   ],
   "source": [
    "turnOver_percentile = (turnOvers_CDF.Percentile(25),turnOvers_CDF.Percentile(50),turnOvers_CDF.Percentile(75))\n",
    "turnOver_percentile"
   ]
  },
  {
   "cell_type": "code",
   "execution_count": 181,
   "metadata": {},
   "outputs": [],
   "source": [
    "turnOver_Sample = np.random.choice(turnOvers, 100, replace=True)\n",
    "turnOvers_ranks = [turnOvers_CDF.PercentileRank(i) for i in turnOver_Sample]"
   ]
  },
  {
   "cell_type": "code",
   "execution_count": 182,
   "metadata": {},
   "outputs": [
    {
     "data": {
      "image/png": "[encoded data removed]",
      "text/plain": [
       "<matplotlib.figure.Figure at 0x7fe93d3d0610>"
      ]
     },
     "metadata": {},
     "output_type": "display_data"
    }
   ],
   "source": [
    "turnOver_rank_cdf = thinkstats2.Cdf(turnOvers_ranks)\n",
    "thinkplot.Cdf(turnOver_rank_cdf)\n",
    "thinkplot.Show(xlabel='Percentile rank of Turn Overs', ylabel='CDF')"
   ]
  },
  {
   "cell_type": "code",
   "execution_count": 183,
   "metadata": {},
   "outputs": [],
   "source": [
    "ft_Sample = np.random.choice(ftMade, 100, replace=True)\n",
    "ft_ranks = [ft_CDF.PercentileRank(i) for i in ft_Sample]"
   ]
  },
  {
   "cell_type": "code",
   "execution_count": 184,
   "metadata": {
    "scrolled": true
   },
   "outputs": [
    {
     "data": {
      "image/png": "[encoded data removed]",
      "text/plain": [
       "<matplotlib.figure.Figure at 0x7fe93deda0d0>"
      ]
     },
     "metadata": {},
     "output_type": "display_data"
    }
   ],
   "source": [
    "ft_rank_cdf = thinkstats2.Cdf(ft_ranks)\n",
    "thinkplot.Cdf(ft_rank_cdf)\n",
    "thinkplot.Show(xlabel='Percentile rank of Free Throws', ylabel='CDF')"
   ]
  },
  {
   "cell_type": "code",
   "execution_count": 185,
   "metadata": {},
   "outputs": [
    {
     "data": {
      "image/png": "[encoded data removed]",
      "text/plain": [
       "<matplotlib.figure.Figure at 0x7fe93d803350>"
      ]
     },
     "metadata": {},
     "output_type": "display_data"
    }
   ],
   "source": [
    "Turnovers_Resample = turnOvers_CDF.Sample(200)\n",
    "thinkplot.Cdf(turnOvers_CDF)\n",
    "thinkplot.Cdf(thinkstats2.Cdf(Turnovers_Resample, label='resample'))\n",
    "thinkplot.Show(xlabel='Turn Overs', ylabel='CDF')"
   ]
  },
  {
   "cell_type": "code",
   "execution_count": 186,
   "metadata": {},
   "outputs": [
    {
     "data": {
      "image/png": "[encoded data removed]",
      "text/plain": [
       "<matplotlib.figure.Figure at 0x7fe941892bd0>"
      ]
     },
     "metadata": {},
     "output_type": "display_data"
    }
   ],
   "source": [
    "ft_Resample = ft_CDF.Sample(200)\n",
    "thinkplot.Cdf(ft_CDF)\n",
    "thinkplot.Cdf(thinkstats2.Cdf(ft_Resample, label='resample'))\n",
    "thinkplot.Show(xlabel='Free Throws', ylabel='CDF')"
   ]
  },
  {
   "cell_type": "code",
   "execution_count": 187,
   "metadata": {},
   "outputs": [
    {
     "name": "stdout",
     "output_type": "stream",
     "text": [
      "0.9291008082359609\n",
      "0.9519572930454144\n"
     ]
    }
   ],
   "source": [
    "#Question5\n",
    "\n",
    "def Cov(xs, ys, meanx=None, meany=None):\n",
    "    xs = np.asarray(xs)\n",
    "    ys = np.asarray(ys)\n",
    "\n",
    "    if meanx is None:\n",
    "        meanx = np.mean(xs)\n",
    "    if meany is None:\n",
    "        meany = np.mean(ys)\n",
    "\n",
    "    cov = np.dot(xs-meanx, ys-meany) / len(xs)\n",
    "    return cov\n",
    "def Corr(xs, ys):\n",
    "    xs = np.asarray(xs)\n",
    "    ys = np.asarray(ys)\n",
    "\n",
    "    meanx, varx = thinkstats2.MeanVar(xs)\n",
    "    meany, vary = thinkstats2.MeanVar(ys)\n",
    "\n",
    "    corr = Cov(xs, ys, meanx, meany) / np.sqrt(varx * vary)\n",
    "    return corr\n",
    "\n",
    "def SpearmanCorr(xs, ys):\n",
    "    xranks = pd.Series(xs).rank()\n",
    "    yranks = pd.Series(ys).rank()\n",
    "    return Corr(xranks, yranks)\n",
    "\n",
    "\n",
    "print SpearmanCorr(turnOvers, ftMade)\n",
    "print SpearmanCorr(turnOvers, points)"
   ]
  },
  {
   "cell_type": "code",
   "execution_count": 188,
   "metadata": {},
   "outputs": [],
   "source": [
    "class HypothesisTest(object):\n",
    "\n",
    "    def __init__(self, data):\n",
    "        self.data = data\n",
    "        self.MakeModel()\n",
    "        self.actual = self.TestStatistic(data)\n",
    "\n",
    "    def PValue(self, iters=2000):\n",
    "        self.test_stats = [self.TestStatistic(self.RunModel()) \n",
    "                           for _ in range(iters)]\n",
    "\n",
    "        count = sum(1 for x in self.test_stats if x >= self.actual)\n",
    "        return count / iters\n",
    "\n",
    "    def TestStatistic(self, data):\n",
    "        raise UnimplementedMethodException()\n",
    "\n",
    "    def MakeModel(self):\n",
    "        pass\n",
    "\n",
    "    def RunModel(self):\n",
    "        raise UnimplementedMethodException()"
   ]
  },
  {
   "cell_type": "code",
   "execution_count": 189,
   "metadata": {},
   "outputs": [],
   "source": [
    "class CorrelationPermute(thinkstats2.HypothesisTest):\n",
    "\n",
    "    def TestStatistic(self, data):\n",
    "        xs, ys = data\n",
    "        test_stat = abs(SpearmanCorr(xs, ys))\n",
    "        return test_stat\n",
    "\n",
    "    def RunModel(self):\n",
    "        xs, ys = self.data\n",
    "        xs = np.random.permutation(xs)\n",
    "        return xs, ys"
   ]
  },
  {
   "cell_type": "code",
   "execution_count": 190,
   "metadata": {},
   "outputs": [
    {
     "data": {
      "text/plain": [
       "0.0"
      ]
     },
     "execution_count": 190,
     "metadata": {},
     "output_type": "execute_result"
    }
   ],
   "source": [
    "data = turnOvers.values, ftMade.values\n",
    "ht = CorrelationPermute(data)\n",
    "pvalue = ht.PValue()\n",
    "pvalue"
   ]
  },
  {
   "cell_type": "code",
   "execution_count": 191,
   "metadata": {},
   "outputs": [
    {
     "data": {
      "text/plain": [
       "(0.9291008082359609, 0.16812566715910218)"
      ]
     },
     "execution_count": 191,
     "metadata": {},
     "output_type": "execute_result"
    }
   ],
   "source": [
    "ht.actual, ht.MaxTestStat()\n"
   ]
  },
  {
   "cell_type": "code",
   "execution_count": null,
   "metadata": {},
   "outputs": [],
   "source": []
  }
 ],
 "metadata": {
  "kernelspec": {
   "display_name": "Python 2",
   "language": "python",
   "name": "python2"
  },
  "language_info": {
   "codemirror_mode": {
    "name": "ipython",
    "version": 2
   },
   "file_extension": ".py",
   "mimetype": "text/x-python",
   "name": "python",
   "nbconvert_exporter": "python",
   "pygments_lexer": "ipython2",
   "version": "2.7.12"
  }
 },
 "nbformat": 4,
 "nbformat_minor": 2
}
